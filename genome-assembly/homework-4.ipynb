{
 "cells": [
  {
   "cell_type": "code",
   "execution_count": 1,
   "metadata": {},
   "outputs": [],
   "source": [
    "# In order to import from the python file without hassle, we add the current\n",
    "# directory to the python path\n",
    "import sys; sys.path.append(\".\")"
   ]
  },
  {
   "cell_type": "markdown",
   "metadata": {},
   "source": [
    "Let's let the nice folks at NCBI know who we are."
   ]
  },
  {
   "cell_type": "code",
   "execution_count": 2,
   "metadata": {},
   "outputs": [],
   "source": [
    "#Entrez.email = \"<your email>@fri.uni-lj.si\""
   ]
  },
  {
   "cell_type": "markdown",
   "metadata": {},
   "source": [
    "# Genome assembly"
   ]
  },
  {
   "cell_type": "markdown",
   "metadata": {},
   "source": [
    "## Problem 1: Eulerian paths\n",
    "\n",
    "In this exercise, we're going to look at the Eulerian path search you learned about in lectures. \n",
    "\n",
    "**a)**\n",
    "Implement the `kmers` function in `helper_functions.py`. Look at the function docstrings for expected input paramters and return types. Your kmers function should be able to produce kmers of arbitrary size e.g. if we want 7-mers for the sequence *mesenchyme*, the function should return a list containing the following sequences: *mesench*, *esenchy*, *senchym*, *enchyme*. Your function should support arbitrary strides, e.g. in the previous example we used stride 1, while if we used the same string with stride 2, we would obtain the strings *mesench* and *senchym*.\n",
    "**[5 points]**\n",
    "\n",
    "**b)**\n",
    "Implement the `assemble_genome` function in `helper_functions.py`. Look at the function docstrings for expected input paramters and return types.  Your genome assembly function should work in the following way:\n",
    "1. For an input list of sequences, e.g. kmers, construct a DeBruijn graph as seen in the lectures.\n",
    "2. Find all possible Euerlian paths through the graph, i.e. all possible paths which visit each edge exactly once. Your paths should all start from a source node with in-degree zero. In case no such node exists, you may use the first sequence in the list of input sequences as your starting point. \n",
    "3. Decode your obtained paths into sequences, and return a list (or set) of unique genome assemblies as strings.\n",
    "**[10 points]**\n",
    "\n",
    "**c)**\n",
    "Modify your `assemble_genome` function in `helper_functions.py` to accept a list of input sequences in any order and still produce a correct reconstruction. An easy way to check this is to construct a list of kmers, and shuffle it. Your function should return the same results as in part b), where the kmers are ordered.\n",
    "**[5 points]**"
   ]
  },
  {
   "cell_type": "code",
   "execution_count": 3,
   "metadata": {},
   "outputs": [],
   "source": [
    "from helper_functions import kmers, assemble_genome"
   ]
  },
  {
   "cell_type": "markdown",
   "metadata": {},
   "source": [
    "## Problem 2: Minimum fragment length\n",
    "\n",
    "We will follow the idealized example from lectures where we have perfect coverage and each kmer is assumed to be sequenced exactly once. However, as we have seen in the lectures, some assemblies do not always produce unambiguous results. Sometimes more than one reconstruction is valid! In this exercise, we want to determine the minimum fragment length necessary for unambiguous reconstruction.\n",
    "\n",
    "**TASK:** Simulate the sequencing process by running your `kmers` function on the SARS-CoV-2 spike protein nucleotide sequence. Next, find all the valid assemblies of your obtained kmers. You'll notice that there are no ambiguities for longer kmers e.g. 50-mers, but we run into them when generating shorter \"reads\" (kmers). What is the minimum fragment length where we can unambiguously reconstruct the initial spike protein nucleotide sequence? In other words, what is smallest k for k-mers where we obtain exactly one valid assembly from our `assemble_genome` function? Save your answer into the `minimum_fragment_length` variable. Write your observations into the `minimum_fragment_length_comments` variable.\n",
    "\n",
    "**[10 points]**"
   ]
  },
  {
   "cell_type": "code",
   "execution_count": 4,
   "metadata": {},
   "outputs": [],
   "source": [
    "minimum_fragment_length = 6\n",
    "minimum_fragment_length_comments = \"\"\"\n",
    "Write down your observations.\n",
    "At 5 fragments we get to 1038 possible paths, and time required increases exponentially.\n",
    "\"\"\""
   ]
  },
  {
   "cell_type": "markdown",
   "metadata": {},
   "source": [
    "## Problem 3: Unrealistic assumptions\n",
    "\n",
    "In this homework, we are assuming perfect coverage, which means we assume every kmer will be sequenced from the genome exactly once. We simulate this by running our kmers function on a known genome sequence.\n",
    "\n",
    "In the real world, these assumptions would hold no water. Many things have to be taken into consideration. For example, biologists first prepare the tissue to be sequenced. Imagine someone is preparing to sequence some mouse tissue, but they forget to wear gloves and contaminate the sample with some of their own cells, and bacteria from their hands. Then the mouse sample may contain human and bacterial DNA instead of just mouse DNA. Next, the sequencing process splits the DNA molecules into short fragments at random, so we might have the same region sequenced twice, while some regions will be completely skipped. Finally, the sequencing process itself works something like this: for every nucleotide in a sequence there exists some colored reagent which binds to it. So every base, ACTG, is assigned its own color. Each nucleotide then goes under a large microscopic camera, which literally takes pictures of every nucleotide, one by one. Then, this sequence of colors is converted into a nucleotide sequence. However, sometimes reagents don't bind to the nucleotides perfectly, so this can cause ambiguities or errors in the reads.\n",
    "\n",
    "**Question:** Write down at least **three** things we might encounter in the real world for which we have not accounted for by using kmers (you may use some issues I listed above, but think of at least one other thing we haven't mentioned yet). For each of the issues, think about how you would approach each problem. You don't need to write down a full guide, just a general overview of how we might solve each problem. Write your answer into the `unrealistic_assumptions` variable.\n",
    "**[5 points]**"
   ]
  },
  {
   "cell_type": "code",
   "execution_count": 5,
   "metadata": {},
   "outputs": [],
   "source": [
    "unrealistic_assumptions = \"\"\"\n",
    "Assumption 1:\n",
    "Tissue used is from a healthy organism.\n",
    "When sequencing tissues from multicellular organisms, we need to be\n",
    "careful that there are no signs of infection, parasitism and inflammation, as those problems, if not for\n",
    "example of autoimmune source, will be caused by foreign organisms, and dependant on the progress of infection,\n",
    "the amount of their DNA may be very high. Every group of organisms has its general signs of disease,\n",
    "even plants exhibit signs of pathological distress, so before handling our organism of choice we should\n",
    "be aware of those signs and look for them. If possible, only healthy specimen is chosen, if not, tissue from\n",
    "an uninfected area should be selected.\n",
    "Assumption 2:\n",
    "Enzymes used work perfectly.\n",
    "Enzymes are not perpetual, in cells there would be a continuous overturn of proteins, with some enzymes\n",
    "having a lifetime of hours, as with time their structure and specificity may degrade. We must be careful\n",
    "to use new batches and order only as much as we need so we don't have to keep any extra over longer periods,\n",
    "especially when our reactions are very sensitive to errors. They should be stored at cold temperatures and\n",
    "in appropriate buffers.\n",
    "Assumption 3:\n",
    "There is no human error during the procedure.\n",
    "As mentioned, not using appropriate protection can introduce contaminating DNA into our sample,\n",
    "not having appropriately labeled reagents might make the reaction unsuccessful and so forth.\n",
    "Staff should be trained and tested by seeing how well they can reproduce a known sequence, there\n",
    "should always be a journal and reagents and equipments should be stored and labelled to minimize confusion.\n",
    "\n",
    "\"\"\""
   ]
  },
  {
   "cell_type": "markdown",
   "metadata": {},
   "source": [
    "**Question:** In all of the cases we have talked about above, we pretend we are going into the genome assembly process blind. We have some DNA fragments about which we know nothing, so we have to perform assembly from the ground up. However, often times, we know something about our organisms. For example, for SARS-CoV-2, it was suspected that it was related to SARS and MERS. Think about how we could use existing genomes from related species to facilitate genome assembly. Think back to homework 2, where we looked at sequence alignment tools. Could we use some of that machinery to help with assembling the SARS-CoV-2 genome? Write down how you would approach genome assembly for SARS-CoV-2, known that it's closely related to SARS, or even the bat RaTG13. Write your answer into the `assembly_with_alignment` variable.\n",
    "**[5 points]**"
   ]
  },
  {
   "cell_type": "code",
   "execution_count": 6,
   "metadata": {},
   "outputs": [],
   "source": [
    "assembly_with_alignment = \"\"\"\n",
    "How would we facilitate genome assembly using the machinery from sequence alignment?\n",
    "We could separate cases where there is a match because of a repetitive element apart from those\n",
    "where it is because of adjacency. By aligning fragments of various size to related genomes their order\n",
    "could be easier to ascertain.\n",
    "\"\"\""
   ]
  },
  {
   "cell_type": "code",
   "execution_count": null,
   "metadata": {},
   "outputs": [],
   "source": []
  },
  {
   "cell_type": "code",
   "execution_count": null,
   "metadata": {},
   "outputs": [],
   "source": []
  },
  {
   "cell_type": "code",
   "execution_count": null,
   "metadata": {},
   "outputs": [],
   "source": []
  }
 ],
 "metadata": {
  "kernelspec": {
   "display_name": "Python 3",
   "language": "python",
   "name": "python3"
  },
  "language_info": {
   "codemirror_mode": {
    "name": "ipython",
    "version": 3
   },
   "file_extension": ".py",
   "mimetype": "text/x-python",
   "name": "python",
   "nbconvert_exporter": "python",
   "pygments_lexer": "ipython3",
   "version": "3.8.2"
  }
 },
 "nbformat": 4,
 "nbformat_minor": 4
}
