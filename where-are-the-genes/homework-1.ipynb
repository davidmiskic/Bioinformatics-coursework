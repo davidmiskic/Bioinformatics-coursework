{
 "cells": [
  {
   "cell_type": "code",
   "execution_count": 1,
   "metadata": {},
   "outputs": [],
   "source": [
    "import numpy as np\n",
    "from Bio import Entrez"
   ]
  },
  {
   "cell_type": "code",
   "execution_count": 2,
   "metadata": {},
   "outputs": [],
   "source": [
    "import matplotlib\n",
    "import matplotlib.pyplot as plt\n",
    "\n",
    "matplotlib.rcParams[\"legend.frameon\"] = False\n",
    "%matplotlib inline"
   ]
  },
  {
   "cell_type": "markdown",
   "metadata": {},
   "source": [
    "Let's let the nice folks at NCBI know who we are."
   ]
  },
  {
   "cell_type": "code",
   "execution_count": 3,
   "metadata": {},
   "outputs": [],
   "source": [
    "Entrez.email = \"<your email>@fri.uni-lj.si\""
   ]
  },
  {
   "cell_type": "code",
   "execution_count": 4,
   "metadata": {},
   "outputs": [],
   "source": [
    "# In order to import from the python file without hassle, we add the current\n",
    "# directory to the python path\n",
    "import sys\n",
    "sys.path.append(\".\")\n",
    "from helper_functions import load, extract_gt_orfs, find_all_orfs, translate_to_protein, metrics, orf_to_seq"
   ]
  },
  {
   "cell_type": "markdown",
   "metadata": {},
   "source": [
    "# Paramecium tetraurelia\n",
    "\n",
    "Paramecia are unicellular organisms, which move around using cilia. Cilia are like little hairs attached to the cell membrane, which the animal can vibrate to move around.\n",
    "\n",
    "![](https://upload.wikimedia.org/wikipedia/commons/b/bd/Инфузория_туфелька_поедает_бактерии%21.gif)\n",
    "\n",
    "Paramecia are widespread in freshwater, brackish, and marine environments and are often very abundant in stagnant basins and ponds. If you want, you can read more about them on [Wikipedia](https://en.wikipedia.org/wiki/Paramecium).\n",
    "\n",
    "This is a model organism, meaning it has been very throughoutly studied. We're going to see how many genes we can identify ourselves and compare that to the true gene annotations."
   ]
  },
  {
   "cell_type": "code",
   "execution_count": 5,
   "metadata": {},
   "outputs": [],
   "source": [
    "organism_id = \"NC_006058\"  # Paramecium tetraurelia"
   ]
  },
  {
   "cell_type": "code",
   "execution_count": 6,
   "metadata": {},
   "outputs": [],
   "source": [
    "start_codons = [\"ATG\"]\n",
    "stop_codons = [\"TGA\"]"
   ]
  },
  {
   "cell_type": "markdown",
   "metadata": {},
   "source": [
    "Fetch the Paramecium genome from NCBI."
   ]
  },
  {
   "cell_type": "code",
   "execution_count": 7,
   "metadata": {},
   "outputs": [
    {
     "data": {
      "text/plain": [
       "SeqRecord(seq=Seq('GTTTATATTTTTACACTGTTTCCATCCTTATTTTCAAAAAAAAATTTACAATTT...CTT', IUPACAmbiguousDNA()), id='NC_006058.1', name='NC_006058', description='Paramecium tetraurelia macronuclear, complete genome', dbxrefs=['Project:12726', 'BioProject:PRJNA12726'])"
      ]
     },
     "execution_count": 7,
     "metadata": {},
     "output_type": "execute_result"
    }
   ],
   "source": [
    "record = load(organism_id)\n",
    "record"
   ]
  },
  {
   "cell_type": "markdown",
   "metadata": {},
   "source": [
    "How long is the genome?"
   ]
  },
  {
   "cell_type": "code",
   "execution_count": 8,
   "metadata": {},
   "outputs": [
    {
     "name": "stdout",
     "output_type": "stream",
     "text": [
      "984,602 bases\n"
     ]
    }
   ],
   "source": [
    "print(\"{:,} bases\".format(len(record.seq)))"
   ]
  },
  {
   "cell_type": "markdown",
   "metadata": {},
   "source": [
    "## Problem 1\n",
    "\n",
    "Find all the open reading frames (ORFs) in the genome. We define an ORF to be the longest contiguous sequence of triplets (codons) between a start and a stop codon. \n",
    "\n",
    "**TASK:**\n",
    "Implement the `find_orfs` and `find_all_orfs` functions in `helper_functions.py`. You can verify your implementation against the provided unit tests (your code will be run against different examples for grading). `find_orfs` should find ORFs for a single offset e.g. [ATGTAATGTTGATTA]TG, ignoring the final TG. `find_all_orfs` should use `find_orfs` to find _all_ the ORFs in a sequence, i.e. [ATGTAATGTTGATTA]TG, A[TGTAATGTTGATTAT]G, AT[GTAATGTTGATTATG], as well as the ORFs on the reverse complements. See the docstrings and unit tests in `test_helper_functions.py` for expected return types.\n",
    "\n",
    "Once you have implemented your ORF finder, return to this notebook. In the following cells, you will find the ORFs for the Paramecium tetraurelia genome."
   ]
  },
  {
   "cell_type": "code",
   "execution_count": 9,
   "metadata": {},
   "outputs": [
    {
     "name": "stdout",
     "output_type": "stream",
     "text": [
      "Finding ORFs using start/stop codons...\n",
      "16646 ORF candidates found\n"
     ]
    }
   ],
   "source": [
    "print(\"Finding ORFs using start/stop codons...\")\n",
    "orf_candidates = find_all_orfs(record.seq, start_codons, stop_codons)\n",
    "print(f\"{len(orf_candidates)} ORF candidates found\")"
   ]
  },
  {
   "cell_type": "code",
   "execution_count": 10,
   "metadata": {},
   "outputs": [],
   "source": [
    "orf_length = np.array([c[2] - c[1] for c in orf_candidates]) / 3  # divide by 3 for codons"
   ]
  },
  {
   "cell_type": "code",
   "execution_count": 11,
   "metadata": {},
   "outputs": [
    {
     "data": {
      "image/png": "[encoded data removed]",
      "text/plain": [
       "<Figure size 864x432 with 2 Axes>"
      ]
     },
     "metadata": {
      "needs_background": "light"
     },
     "output_type": "display_data"
    }
   ],
   "source": [
    "fig, ax = plt.subplots(nrows=2, figsize=(12, 6), sharex=True)\n",
    "hist_kwargs = dict(bins=list(range(0, 4000, 100)), edgecolor=\"k\", lw=1.2)\n",
    "for ax_ in ax.ravel():\n",
    "    ax_.hist(orf_length, color=\"tab:blue\", label=\"Predicted\", **hist_kwargs)\n",
    "    ax_.set_xlabel(\"Number of codons\"), ax_.set_ylabel(\"Frequency\")\n",
    "    ax_.legend()\n",
    "ax[1].set_yscale(\"log\")\n",
    "plt.tight_layout();"
   ]
  },
  {
   "cell_type": "markdown",
   "metadata": {},
   "source": [
    "In the top figure, we can immediately notice that almost all of our ORFs are very short. We can plot the same data on a log scale so we can see how long some ORFs really are."
   ]
  },
  {
   "cell_type": "markdown",
   "metadata": {},
   "source": [
    "## Problem 2\n",
    "\n",
    "As we said in the beginning, Paramecium tetraurelia is a well studied organism, so we can check how many of our predicted ORFs are actually real genes."
   ]
  },
  {
   "cell_type": "code",
   "execution_count": 12,
   "metadata": {},
   "outputs": [
    {
     "name": "stdout",
     "output_type": "stream",
     "text": [
      "Extracting ORFs from NCBI annotation...\n",
      "100 ground truth ORFs found\n"
     ]
    }
   ],
   "source": [
    "print(\"Extracting ORFs from NCBI annotation...\")\n",
    "orfs_gt = extract_gt_orfs(record, start_codons, stop_codons, verbose=False)\n",
    "print(f\"{len(orfs_gt)} ground truth ORFs found\")"
   ]
  },
  {
   "cell_type": "code",
   "execution_count": 13,
   "metadata": {},
   "outputs": [],
   "source": [
    "gt_orf_length = np.array([c[2] - c[1] for c in orfs_gt]) / 3"
   ]
  },
  {
   "cell_type": "code",
   "execution_count": 14,
   "metadata": {},
   "outputs": [
    {
     "data": {
      "image/png": "[encoded data removed]",
      "text/plain": [
       "<Figure size 864x288 with 1 Axes>"
      ]
     },
     "metadata": {
      "needs_background": "light"
     },
     "output_type": "display_data"
    }
   ],
   "source": [
    "fig, ax = plt.subplots(figsize=(12, 4))\n",
    "ax.hist(orf_length, color=\"tab:blue\", label=\"Predicted\", **hist_kwargs)\n",
    "ax.hist(gt_orf_length, color=\"tab:orange\", label=\"Ground truth\", **hist_kwargs)\n",
    "ax.set_xlabel(\"Number of codons\"), ax.set_ylabel(\"Frequency\")\n",
    "ax.set_yscale(\"log\")\n",
    "plt.legend();"
   ]
  },
  {
   "cell_type": "markdown",
   "metadata": {},
   "source": [
    "**TASK:**\n",
    "Plot the precision/recall/F1 curves for different thresholds into a single figure and save the result to `problem2.png`. Determine a threshold for the ORF length and save your answers into the `bacteria_threshold` and `bacteria_reason` variables.\n",
    "\n",
    "In practice, biologists will mostly look through each ORF manually to determine if it is a gene or not. We want to help them by eliminating ORFs that are probably too short to be a gene, but still keep most of the ORFs that actually code for genes. "
   ]
  },
  {
   "cell_type": "code",
   "execution_count": 15,
   "metadata": {},
   "outputs": [
    {
     "data": {
      "image/png": "[encoded data removed]",
      "text/plain": [
       "<Figure size 432x288 with 1 Axes>"
      ]
     },
     "metadata": {
      "needs_background": "light"
     },
     "output_type": "display_data"
    }
   ],
   "source": [
    "# TODO\n",
    "cutoff = metrics(record, start_codons, stop_codons)"
   ]
  },
  {
   "cell_type": "code",
   "execution_count": 16,
   "metadata": {},
   "outputs": [
    {
     "name": "stdout",
     "output_type": "stream",
     "text": [
      "96.0\n"
     ]
    }
   ],
   "source": [
    "bacteria_threshold = cutoff/3\n",
    "print(bacteria_threshold)\n",
    "bacteria_reason = \"\"\"\n",
    "Highest sum of all metrics at that point.\n",
    "\"\"\""
   ]
  },
  {
   "cell_type": "markdown",
   "metadata": {},
   "source": [
    "# SARS-CoV-2\n",
    "\n",
    "SARS-CoV-2 is the prolific virus which causes the COVID-19 disease. I am sure most of you are well aware of what the disease does, so we'll skip any long-winded introduction. Instead, we'll jump straight into the genome of this pesky little virus.\n",
    "\n",
    "![](https://www.klinika-golnik.si/storage/_sites/golnik/app/media/Novice/cov-19.jpg)"
   ]
  },
  {
   "cell_type": "markdown",
   "metadata": {},
   "source": [
    "We again obtain the viral genome from NCBI."
   ]
  },
  {
   "cell_type": "code",
   "execution_count": 17,
   "metadata": {},
   "outputs": [],
   "source": [
    "organism_id = \"NC_045512\"  # SARS-CoV-2"
   ]
  },
  {
   "cell_type": "code",
   "execution_count": 18,
   "metadata": {},
   "outputs": [
    {
     "data": {
      "text/plain": [
       "SeqRecord(seq=Seq('ATTAAAGGTTTATACCTTCCCAGGTAACAAACCAACCAACTTTCGATCTCTTGT...AAA', IUPACAmbiguousDNA()), id='NC_045512.2', name='NC_045512', description='Severe acute respiratory syndrome coronavirus 2 isolate Wuhan-Hu-1, complete genome', dbxrefs=['BioProject:PRJNA485481'])"
      ]
     },
     "execution_count": 18,
     "metadata": {},
     "output_type": "execute_result"
    }
   ],
   "source": [
    "record = load(organism_id)\n",
    "record"
   ]
  },
  {
   "cell_type": "code",
   "execution_count": 19,
   "metadata": {},
   "outputs": [],
   "source": [
    "start_codons = [\"ATG\"]\n",
    "stop_codons = [\"TAA\", \"TAG\", \"TGA\"]"
   ]
  },
  {
   "cell_type": "code",
   "execution_count": 20,
   "metadata": {},
   "outputs": [
    {
     "name": "stdout",
     "output_type": "stream",
     "text": [
      "29,903 bases\n"
     ]
    }
   ],
   "source": [
    "print(\"{:,} bases\".format(len(record.seq)))"
   ]
  },
  {
   "cell_type": "markdown",
   "metadata": {},
   "source": [
    "## Problem 3\n",
    "\n",
    "_You_ are now the biologist. This time we have no ground truth annotations about SARS-CoV-2 from NCBI, so it is up to you to find the genes and try to determine what each gene does.\n",
    "\n",
    "**TASK:**\n",
    "Run your ORF finder on the SARS-CoV-2 genome. Plot the distribution of ORF lengths (log-scale), similarily to what we did for Paramecium tetraurelia, and save the result to `problem3.png`. Determine a threshold on ORF lengths, and filter the number of ORFs to something you find acceptable. Save your answer into the `covid_threshold` variable. You will have to inspect each sequence manually in the next problem, so set it to something reasonable. We don't want you to spend 10 hours staring at gene descriptions."
   ]
  },
  {
   "cell_type": "code",
   "execution_count": 22,
   "metadata": {},
   "outputs": [
    {
     "name": "stdout",
     "output_type": "stream",
     "text": [
      "Extracting ORFs from NCBI annotation...\n",
      "11 ground truth ORFs found\n",
      "711 ORF candidates found\n"
     ]
    },
    {
     "data": {
      "image/png": "[encoded data removed]",
      "text/plain": [
       "<Figure size 864x288 with 1 Axes>"
      ]
     },
     "metadata": {
      "needs_background": "light"
     },
     "output_type": "display_data"
    }
   ],
   "source": [
    "# TODO\n",
    "print(\"Extracting ORFs from NCBI annotation...\")\n",
    "orfs_gtCov = extract_gt_orfs(record, start_codons, stop_codons, verbose=False)\n",
    "print(f\"{len(orfs_gtCov)} ground truth ORFs found\")\n",
    "\n",
    "orf_candidatesCov = find_all_orfs(record.seq, start_codons, stop_codons)\n",
    "print(f\"{len(orf_candidatesCov)} ORF candidates found\")\n",
    "\n",
    "orf_lengthCov = np.array([c[2] - c[1] for c in orf_candidatesCov]) / 3  # divide by 3 for codons\n",
    "gt_orf_lengthCov = np.array([c[2] - c[1] for c in orfs_gtCov]) / 3\n",
    "\n",
    "fig, ax = plt.subplots(figsize=(12, 4))\n",
    "ax.hist(orf_lengthCov, color=\"tab:blue\", label=\"Predicted\", **hist_kwargs)\n",
    "ax.hist(gt_orf_lengthCov, color=\"tab:orange\", label=\"Ground truth\", **hist_kwargs)\n",
    "ax.set_xlabel(\"Number of codons\"), ax.set_ylabel(\"Frequency\")\n",
    "ax.set_yscale(\"log\")\n",
    "plt.legend();\n",
    "plt.savefig('problem3.png', dpi=250)\n"
   ]
  },
  {
   "cell_type": "code",
   "execution_count": 23,
   "metadata": {},
   "outputs": [
    {
     "data": {
      "image/png": "[encoded data removed]",
      "text/plain": [
       "<Figure size 432x288 with 1 Axes>"
      ]
     },
     "metadata": {
      "needs_background": "light"
     },
     "output_type": "display_data"
    },
    {
     "name": "stdout",
     "output_type": "stream",
     "text": [
      "102.0\n"
     ]
    }
   ],
   "source": [
    "cutoffCov = metrics(record, start_codons, stop_codons)\n",
    "covid_threshold = cutoffCov/3\n",
    "print(covid_threshold)"
   ]
  },
  {
   "cell_type": "markdown",
   "metadata": {},
   "source": [
    "## Problem 4\n",
    "\n",
    "In the final problem, you will have to use NCBIs blastp online program to determine whether or not each ORF you found is an actual gene, and if it is -- what it does.\n",
    "\n",
    "BLASTp is a sequence alignment tool that you will learn about in the upcoming lectures. But for now, you can think of it like this: given a sequence, BLAST looks through all the genomes of known animals and sees if there are any regions there that match the query sequence. So, you can look through matching sequences where we'll usually expect to find very closely related organisms. For example, if we have some gene from a brown labrador puppy, we'd probably expect that gene to be farily similar to that same gene in black labrador puppies. Or in the case SARS-CoV-2, the genes will probably be similar to some related coronavirus."
   ]
  },
  {
   "cell_type": "markdown",
   "metadata": {},
   "source": [
    "![](https://www.economist.com/img/b/1000/563/90/sites/default/files/20200314_FBD001.jpg)"
   ]
  },
  {
   "cell_type": "markdown",
   "metadata": {},
   "source": [
    "**TASK**:\n",
    "Translate each of your ORFs into a protein sequence. You will need to implement the `translate_to_protein` function in `helper_functions.py`. You can verify your implementation against the provided unit tests (your code will be run against different examples for grading). Next, run each protein sequence through [NCBI BLASTp](https://blast.ncbi.nlm.nih.gov/Blast.cgi?PROGRAM=blastp&PAGE_TYPE=BlastSearch&LINK_LOC=blasthome). Look at the picture of the SARS-CoV-2 virus above, and try to match the ORFs you found to each protein type, e.g. ORF1 may be a spike protein, or ORF5 might be an envelope protein. Save your answers into the `covid_proteins` variable as a dict of lists, where the dict keys are what you see in the picture. The lists should hold the tuples specifying the appropriate ORFs in the same format that is returned by `find_all_orfs`.\n",
    "\n",
    "You should be able to determine where most proteins go by their names alone. In case the name is not sufficient, set the BLASTp database to _swissprot_ and look at the _COMMENT_ field on the matched genes."
   ]
  },
  {
   "cell_type": "code",
   "execution_count": 24,
   "metadata": {},
   "outputs": [
    {
     "name": "stdout",
     "output_type": "stream",
     "text": [
      "[(1, 13767, 21555), (1, 25392, 26220), (1, 27393, 27759), (1, 265, 13483), (1, 21535, 25384), (1, 28273, 29533), (1, 26522, 27191), (1, 27893, 28259)]\n",
      "['ATG', 'ATG', 'ATG', 'ATG', 'ATG', 'ATG', 'ATG', 'ATG']\n",
      "8 8\n"
     ]
    }
   ],
   "source": [
    "# TODO\n",
    "orf_candidatesCovCutoff = [orf for orf in orf_candidatesCov if abs(orf[1]-orf[2])>=cutoffCov]\n",
    "translatedCov = [orf_to_seq(orf, record) for orf in orf_candidatesCovCutoff]\n",
    "print(orf_candidatesCovCutoff)\n",
    "print([seq[0:3] for seq in translatedCov])\n",
    "print(len(orf_candidatesCovCutoff), len(translatedCov))\n",
    "translatedCov = [translate_to_protein(seq) for seq in translatedCov]\n",
    "f = open(\"translatedCov.txt\", \"w\")\n",
    "for i in range(0, len(orf_candidatesCovCutoff)):  \n",
    "    f.write(\">\" + str(orf_candidatesCovCutoff[i]) + \"\\n\")\n",
    "    f.write(translatedCov[i] + \"\\n\" + \"\\n\")\n",
    "f.close()\n"
   ]
  },
  {
   "cell_type": "code",
   "execution_count": 25,
   "metadata": {},
   "outputs": [],
   "source": [
    "covid_proteins = {\n",
    "    \"Envelope protein\": [(1, 1000, 1200)],  # (strand, start location, stop location), don't forget to the provided example\n",
    "    \"Membrane protein\": [(1, 25392, 26220), (1, 27393, 27759)],\n",
    "    \"Spike protein\": [(1, 21535, 25384)],\n",
    "    \"Nucleocapsid protein\": [(1, 28273, 29533)],\n",
    "    \"Lipid membrane\": [(1, 26522, 27191)],\n",
    "}"
   ]
  },
  {
   "cell_type": "code",
   "execution_count": null,
   "metadata": {},
   "outputs": [],
   "source": []
  }
 ],
 "metadata": {
  "kernelspec": {
   "display_name": "Python 3",
   "language": "python",
   "name": "python3"
  },
  "language_info": {
   "codemirror_mode": {
    "name": "ipython",
    "version": 3
   },
   "file_extension": ".py",
   "mimetype": "text/x-python",
   "name": "python",
   "nbconvert_exporter": "python",
   "pygments_lexer": "ipython3",
   "version": "3.8.2"
  }
 },
 "nbformat": 4,
 "nbformat_minor": 4
}